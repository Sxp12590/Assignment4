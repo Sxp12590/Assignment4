{
  "nbformat": 4,
  "nbformat_minor": 0,
  "metadata": {
    "colab": {
      "provenance": []
    },
    "kernelspec": {
      "name": "python3",
      "display_name": "Python 3"
    },
    "language_info": {
      "name": "python"
    }
  },
  "cells": [
    {
      "cell_type": "code",
      "execution_count": 1,
      "metadata": {
        "colab": {
          "base_uri": "https://localhost:8080/"
        },
        "id": "hUh3PNdna6BP",
        "outputId": "fc9f9fb6-92d8-44c4-c4e1-d10a2730adf2"
      },
      "outputs": [
        {
          "output_type": "stream",
          "name": "stdout",
          "text": [
            "Entity Text: Barack Obama\n",
            "Entity Label: PERSON\n",
            "Start Character: 0\n",
            "End Character: 12\n",
            "\n",
            "Entity Text: 44th\n",
            "Entity Label: ORDINAL\n",
            "Start Character: 27\n",
            "End Character: 31\n",
            "\n",
            "Entity Text: the United States\n",
            "Entity Label: GPE\n",
            "Start Character: 45\n",
            "End Character: 62\n",
            "\n",
            "Entity Text: the Nobel Peace Prize\n",
            "Entity Label: WORK_OF_ART\n",
            "Start Character: 71\n",
            "End Character: 92\n",
            "\n",
            "Entity Text: 2009\n",
            "Entity Label: DATE\n",
            "Start Character: 96\n",
            "End Character: 100\n",
            "\n"
          ]
        }
      ],
      "source": [
        "import spacy\n",
        "\n",
        "# Load the pre-trained English model\n",
        "nlp = spacy.load('en_core_web_sm')\n",
        "\n",
        "def extract_named_entities(sentence):\n",
        "    # Process the sentence with spaCy\n",
        "    doc = nlp(sentence)\n",
        "\n",
        "    # Iterate through the recognized entities\n",
        "    for ent in doc.ents:\n",
        "        print(f\"Entity Text: {ent.text}\")\n",
        "        print(f\"Entity Label: {ent.label_}\")\n",
        "        print(f\"Start Character: {ent.start_char}\")\n",
        "        print(f\"End Character: {ent.end_char}\")\n",
        "        print()\n",
        "\n",
        "# Input sentence\n",
        "sentence = \"Barack Obama served as the 44th President of the United States and won the Nobel Peace Prize in 2009.\"\n",
        "\n",
        "# Extract named entities\n",
        "extract_named_entities(sentence)\n"
      ]
    }
  ]
}
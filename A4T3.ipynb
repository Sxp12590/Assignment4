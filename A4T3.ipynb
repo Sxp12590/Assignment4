{
  "nbformat": 4,
  "nbformat_minor": 0,
  "metadata": {
    "colab": {
      "provenance": []
    },
    "kernelspec": {
      "name": "python3",
      "display_name": "Python 3"
    },
    "language_info": {
      "name": "python"
    }
  },
  "cells": [
    {
      "cell_type": "code",
      "execution_count": 1,
      "metadata": {
        "colab": {
          "base_uri": "https://localhost:8080/"
        },
        "id": "f0k2kCp9bi0M",
        "outputId": "098da8ee-0f67-4511-a276-8ae8aa925d4e"
      },
      "outputs": [
        {
          "output_type": "stream",
          "name": "stdout",
          "text": [
            "Attention Weights Matrix (after softmax):\n",
            "[[0.73105858 0.26894142]\n",
            " [0.26894142 0.73105858]]\n",
            "\n",
            "Final Output Matrix:\n",
            "[[2.07576569 3.07576569 4.07576569 5.07576569]\n",
            " [3.92423431 4.92423431 5.92423431 6.92423431]]\n"
          ]
        }
      ],
      "source": [
        "import numpy as np\n",
        "import scipy.special\n",
        "\n",
        "def scaled_dot_product_attention(Q, K, V):\n",
        "    # Step 1: Compute the dot product of Q and Kᵀ\n",
        "    matmul_qk = np.dot(Q, K.T)\n",
        "\n",
        "    # Step 2: Scale the result by dividing by √d, where d is the dimension of K\n",
        "    d_k = K.shape[1]  # Get the dimension of the key (the number of columns in K)\n",
        "    scaled_attention_logits = matmul_qk / np.sqrt(d_k)\n",
        "\n",
        "    # Step 3: Apply softmax to get attention weights\n",
        "    attention_weights = scipy.special.softmax(scaled_attention_logits, axis=-1)\n",
        "\n",
        "    # Step 4: Multiply the attention weights by V to get the final output\n",
        "    output = np.dot(attention_weights, V)\n",
        "\n",
        "    return attention_weights, output\n",
        "\n",
        "# Test input matrices\n",
        "Q = np.array([[1, 0, 1, 0], [0, 1, 0, 1]])\n",
        "K = np.array([[1, 0, 1, 0], [0, 1, 0, 1]])\n",
        "V = np.array([[1, 2, 3, 4], [5, 6, 7, 8]])\n",
        "\n",
        "# Apply scaled dot-product attention\n",
        "attention_weights, output = scaled_dot_product_attention(Q, K, V)\n",
        "\n",
        "# Display results\n",
        "print(\"Attention Weights Matrix (after softmax):\")\n",
        "print(attention_weights)\n",
        "\n",
        "print(\"\\nFinal Output Matrix:\")\n",
        "print(output)\n"
      ]
    }
  ]
}
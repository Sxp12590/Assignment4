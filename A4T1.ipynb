{
  "nbformat": 4,
  "nbformat_minor": 0,
  "metadata": {
    "colab": {
      "provenance": []
    },
    "kernelspec": {
      "name": "python3",
      "display_name": "Python 3"
    },
    "language_info": {
      "name": "python"
    }
  },
  "cells": [
    {
      "cell_type": "code",
      "execution_count": 2,
      "metadata": {
        "colab": {
          "base_uri": "https://localhost:8080/"
        },
        "id": "m4J8HYkyZnv2",
        "outputId": "57a7ffdb-cc62-4e87-a11d-687c2e81241a"
      },
      "outputs": [
        {
          "output_type": "stream",
          "name": "stderr",
          "text": [
            "[nltk_data] Downloading package punkt to /root/nltk_data...\n",
            "[nltk_data]   Package punkt is already up-to-date!\n",
            "[nltk_data] Downloading package stopwords to /root/nltk_data...\n",
            "[nltk_data]   Package stopwords is already up-to-date!\n"
          ]
        },
        {
          "output_type": "execute_result",
          "data": {
            "text/plain": [
              "True"
            ]
          },
          "metadata": {},
          "execution_count": 2
        }
      ],
      "source": [
        "import nltk\n",
        "nltk.download('punkt')  # For tokenization\n",
        "nltk.download('stopwords')  # For stopwords\n"
      ]
    },
    {
      "cell_type": "code",
      "source": [
        "import spacy\n",
        "from spacy.lang.en.stop_words import STOP_WORDS\n",
        "from spacy.tokens import Doc\n",
        "\n",
        "# Load the pre-trained English model\n",
        "nlp = spacy.load('en_core_web_sm')\n",
        "\n",
        "def preprocess_sentence_spacy(sentence):\n",
        "    # Process the sentence with spaCy\n",
        "    doc = nlp(sentence)\n",
        "\n",
        "    # Step 1: Tokenize the sentence into individual words\n",
        "    tokens = [token.text for token in doc]\n",
        "    print(\"Original Tokens:\", tokens)\n",
        "\n",
        "    # Step 2: Remove stopwords\n",
        "    tokens_without_stopwords = [token.text for token in doc if not token.is_stop]\n",
        "    print(\"Tokens Without Stopwords:\", tokens_without_stopwords)\n",
        "\n",
        "    # Step 3: Apply stemming (spaCy uses lemmatization by default)\n",
        "    stemmed_words = [token.lemma_ for token in doc if not token.is_stop]\n",
        "    print(\"Stemmed Words:\", stemmed_words)\n",
        "\n",
        "# Example usage with the provided sentence\n",
        "sentence = \"NLP techniques are used in virtual assistants like Alexa and Siri.\"\n",
        "preprocess_sentence_spacy(sentence)\n"
      ],
      "metadata": {
        "colab": {
          "base_uri": "https://localhost:8080/"
        },
        "id": "W3gFd_1Paa3s",
        "outputId": "79b79517-81eb-4c57-d662-a530154727ab"
      },
      "execution_count": 4,
      "outputs": [
        {
          "output_type": "stream",
          "name": "stdout",
          "text": [
            "Original Tokens: ['NLP', 'techniques', 'are', 'used', 'in', 'virtual', 'assistants', 'like', 'Alexa', 'and', 'Siri', '.']\n",
            "Tokens Without Stopwords: ['NLP', 'techniques', 'virtual', 'assistants', 'like', 'Alexa', 'Siri', '.']\n",
            "Stemmed Words: ['NLP', 'technique', 'virtual', 'assistant', 'like', 'Alexa', 'Siri', '.']\n"
          ]
        }
      ]
    }
  ]
}